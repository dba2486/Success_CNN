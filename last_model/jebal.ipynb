{
 "cells": [
  {
   "cell_type": "code",
   "execution_count": 1,
   "id": "rubber-allowance",
   "metadata": {},
   "outputs": [],
   "source": [
    "\"\"\"\n",
    "학습할 이미지의 경로를 지정한 부분 백엔드와의 연동이 아닌 단지 학습만을 위한 프로그램이기 때문에 절대 경로로 지정하였다.\n",
    "\"\"\"\n",
    "FOLDER_ROOT = 'C:/Users/kjh97/a/'\n",
    "FOLDER_TRAIN = FOLDER_ROOT + 'train/'"
   ]
  },
  {
   "cell_type": "code",
   "execution_count": 2,
   "id": "quantitative-drive",
   "metadata": {},
   "outputs": [],
   "source": [
    "\"\"\"\n",
    "이미지 지도 학습에 필요한 라이브러리들을 import해준 부분 \n",
    "\"\"\"\n",
    "import tensorflow as tf\n",
    "import matplotlib.pyplot as plt\n",
    "import numpy as np\n",
    "import glob\n",
    "from PIL import Image\n",
    "from imutils import paths\n",
    "from tensorflow.keras.preprocessing.image import load_img, img_to_array\n",
    "from tensorflow.keras.models import load_model\n",
    "from sklearn.model_selection import train_test_split"
   ]
  },
  {
   "cell_type": "code",
   "execution_count": 3,
   "id": "sweet-scotland",
   "metadata": {},
   "outputs": [],
   "source": [
    "labels_dir = \"C:/Users/kjh97/a/train\""
   ]
  },
  {
   "cell_type": "code",
   "execution_count": 4,
   "id": "flying-speaker",
   "metadata": {},
   "outputs": [],
   "source": [
    "labels = [\"actiferin\", \"azella\", \"bearse\", \"colchine\", \"gentazole\", \"geworin\", \"habenherb\", \"penzalq\", \"tacenol\"]"
   ]
  },
  {
   "cell_type": "code",
   "execution_count": 5,
   "id": "coated-matter",
   "metadata": {},
   "outputs": [],
   "source": [
    "classes = len(labels)\n",
    "image_w=28\n",
    "image_h=28\n",
    "pixels=image_h*image_w*3\n",
    "X=[]\n",
    "y=[]"
   ]
  },
  {
   "cell_type": "code",
   "execution_count": null,
   "id": "personalized-electricity",
   "metadata": {},
   "outputs": [],
   "source": [
    "\"\"\"\n",
    "1개의 라벨에 여러 개의 데이터가 있기 때문에 빈 리스트를 미리 선언한다.\n",
    "for문을 이용하여 라벨을 초기화하고 첫 idx에 1을 놓는다.(라벨링 작업)\n",
    "이미지를 RGB값으로 바꾸고 numpy에 담는다.\n",
    "\"\"\"\n",
    "for idx, cat in enumerate(labels):\n",
    "    label = [0 for i in range(classes)]\n",
    "    label[idx]=1\n",
    "    \n",
    "    image_dir = labels_dir+\"/\"+cat\n",
    "    files = glob.glob(image_dir+\"/*.png\")\n",
    "    print(cat, \"파일 길이 :\", len(files))\n",
    "    \n",
    "    for i, f in enumerate(files):\n",
    "        img = Image.open(f)\n",
    "        img = img.convert(\"RGB\")\n",
    "        img = img.resize((image_w, image_h))\n",
    "        data = np.asarray(img)\n",
    "        \n",
    "        X.append(data)\n",
    "        y.append(label)\n",
    "        \n",
    "        if i%700==0:\n",
    "            print(cat, \" : \", f)\n",
    "X=np.array(X)\n",
    "y=np.array(y)\n",
    "len(X), len(y)\n"
   ]
  },
  {
   "cell_type": "code",
   "execution_count": null,
   "id": "gothic-design",
   "metadata": {},
   "outputs": [],
   "source": [
    "\"\"\"\n",
    "train세트와 test셋을 분리하고 데이터셋을 저장한다.\n",
    "\"\"\"\n",
    "X_train, X_test, y_train, y_test=train_test_split(X, y)\n",
    "xy = (X_train, X_test, y_train, y_test)\n",
    "np.save(\"C:/Users/kjh97/a/dataset.npy\",xy)\n",
    "print(\"ok\", len(y))"
   ]
  },
  {
   "cell_type": "code",
   "execution_count": 6,
   "id": "tough-simpson",
   "metadata": {},
   "outputs": [],
   "source": [
    "\"\"\"\n",
    "학습을 위하여 저장된 데이터를 로드한다.\n",
    "\"\"\"\n",
    "X_train, X_test, y_train, y_test = np.load(\"C:/Users/kjh97/a/dataset.npy\", allow_pickle=True)"
   ]
  },
  {
   "cell_type": "code",
   "execution_count": 7,
   "id": "veterinary-stylus",
   "metadata": {},
   "outputs": [
    {
     "data": {
      "text/plain": [
       "(9092, 28, 28, 3)"
      ]
     },
     "execution_count": 7,
     "metadata": {},
     "output_type": "execute_result"
    }
   ],
   "source": [
    "X_train.shape"
   ]
  },
  {
   "cell_type": "code",
   "execution_count": 1,
   "id": "sustainable-sixth",
   "metadata": {},
   "outputs": [
    {
     "ename": "NameError",
     "evalue": "name 'X_train' is not defined",
     "output_type": "error",
     "traceback": [
      "\u001b[1;31m---------------------------------------------------------------------------\u001b[0m",
      "\u001b[1;31mNameError\u001b[0m                                 Traceback (most recent call last)",
      "\u001b[1;32m<ipython-input-1-2cb3fca90d64>\u001b[0m in \u001b[0;36m<module>\u001b[1;34m\u001b[0m\n\u001b[0;32m      1\u001b[0m \u001b[1;34m\"\"\u001b[0m\u001b[1;33m\u001b[0m\u001b[1;33m\u001b[0m\u001b[0m\n\u001b[1;32m----> 2\u001b[1;33m \u001b[0mX_train\u001b[0m \u001b[1;33m=\u001b[0m \u001b[0mX_train\u001b[0m\u001b[1;33m.\u001b[0m\u001b[0mastype\u001b[0m\u001b[1;33m(\u001b[0m\u001b[0mfloat\u001b[0m\u001b[1;33m)\u001b[0m\u001b[1;33m/\u001b[0m\u001b[1;36m255\u001b[0m\u001b[1;33m\u001b[0m\u001b[1;33m\u001b[0m\u001b[0m\n\u001b[0m\u001b[0;32m      3\u001b[0m \u001b[0mX_test\u001b[0m \u001b[1;33m=\u001b[0m \u001b[0mX_test\u001b[0m\u001b[1;33m.\u001b[0m\u001b[0mastype\u001b[0m\u001b[1;33m(\u001b[0m\u001b[0mfloat\u001b[0m\u001b[1;33m)\u001b[0m\u001b[1;33m/\u001b[0m\u001b[1;36m255\u001b[0m\u001b[1;33m\u001b[0m\u001b[1;33m\u001b[0m\u001b[0m\n",
      "\u001b[1;31mNameError\u001b[0m: name 'X_train' is not defined"
     ]
    }
   ],
   "source": [
    "\"\"\"\n",
    "원핫 인코딩을 통하여 0과 1사이의 값으로 초기화하여 학습한다.\n",
    "\"\"\"\n",
    "X_train = X_train.astype(float)/255\n",
    "X_test = X_test.astype(float)/255"
   ]
  },
  {
   "cell_type": "code",
   "execution_count": 9,
   "id": "upper-novelty",
   "metadata": {},
   "outputs": [
    {
     "name": "stdout",
     "output_type": "stream",
     "text": [
      "X Tensor(\"input_1:0\", shape=(None, 28, 28, 3), dtype=float32)\n",
      "H Tensor(\"conv2d/Relu:0\", shape=(None, 28, 28, 16), dtype=float32)\n",
      "H Tensor(\"flatten/Reshape:0\", shape=(None, 12544), dtype=float32)\n",
      "H Tensor(\"dense/Relu:0\", shape=(None, 128), dtype=float32)\n",
      "H Tensor(\"dense_1/Relu:0\", shape=(None, 128), dtype=float32)\n",
      "Y Tensor(\"dense_2/Softmax:0\", shape=(None, 9), dtype=float32)\n"
     ]
    }
   ],
   "source": [
    "\"\"\"\n",
    "학습모델의 코드로 convolution layer 1장과 dense layer 3장으로 구성하였다.\n",
    "학습속도를 위하여 input되는 이미지의 크기는 28x28로 설정하였고,\n",
    "컨볼루션 레이어는 픽셀에서 3x3씩 기억하며 1칸씩 이동하도록 구성하였고,\n",
    "이미지의 크기가 작아지지 않도록 padding = same으로 지정하였고, 히든 레이어 활성화 함수인 relu를 사용하였다.\n",
    "\n",
    "\"\"\"\n",
    "X = tf.keras.layers.Input(shape=[28, 28, 3])\n",
    "print('X', X)\n",
    "#conv1-1, 1-2\n",
    "H = tf.keras.layers.Conv2D(16, kernel_size = 3, strides = 1, padding = 'same', activation = 'relu')(X)\n",
    "print('H', H)\n",
    "#H = tf.keras.layers.Conv2D(16, kernel_size = 3, strides = 1, padding = 'same', activation = 'relu')(H)\n",
    "#print('H', H)\n",
    "#maxpool1\n",
    "#H = tf.keras.layers.MaxPool2D(pool_size = 2, strides = 2)(H)\n",
    "#print('H', H)\n",
    "#conv2-1, 2-2\n",
    "#H = tf.keras.layers.Conv2D(32, kernel_size = 3, strides = 1, padding = 'same', activation = 'relu')(H)\n",
    "#print('H', H)\n",
    "#H = tf.keras.layers.Conv2D(32, kernel_size = 3, strides = 1, padding = 'same', activation = 'relu')(H)\n",
    "#print('H', H)\n",
    "#maxpool2\n",
    "#H = tf.keras.layers.MaxPool2D( pool_size = 2, strides = 2)(H)\n",
    "#print('H', H)\n",
    "#conv3-1, 3-2, 3-3\n",
    "#maxpool3\n",
    "#conv4-1, 4-2, 4-3\n",
    "#maxpool4\n",
    "#conv5-1, 5-2, 5-3\n",
    "#maxpool5\n",
    "#flatten\n",
    "H = tf.keras.layers.Flatten()(H)\n",
    "print('H', H)\n",
    "#dense\n",
    "H = tf.keras.layers.Dense(128, activation = 'relu')(H)\n",
    "print('H', H)\n",
    "H = tf.keras.layers.Dense(128, activation = 'relu')(H)\n",
    "print('H', H)\n",
    "Y = tf.keras.layers.Dense(9, activation = 'softmax')(H)\n",
    "print('Y', Y)\n",
    "model = tf.keras.models.Model(X, Y)\n",
    "\"\"\"\n",
    "모델의 optimizer는 현재 가장 성능이 좋은 것으로 알려진 Adam을 사용하였고 learning rate는 0.01로 지정하였다.\n",
    "모델을 컴파일 할 때 다중 라벨을 분류하는 것이므로 loss는 categorical_crossentropy를 사용하였다.\n",
    "\"\"\"\n",
    "optimizer = tf.keras.optimizers.Adam(lr=0.01)\n",
    "model.compile(loss = 'categorical_crossentropy', optimizer = optimizer, metrics = ['accuracy'])"
   ]
  },
  {
   "cell_type": "code",
   "execution_count": 10,
   "id": "cooked-hormone",
   "metadata": {},
   "outputs": [
    {
     "name": "stdout",
     "output_type": "stream",
     "text": [
      "Epoch 1/10\n",
      "199/199 [==============================] - 7s 33ms/step - loss: 0.3241 - accuracy: 0.8902 - val_loss: 0.0355 - val_accuracy: 0.9861\n",
      "Epoch 2/10\n",
      "199/199 [==============================] - 6s 31ms/step - loss: 0.0432 - accuracy: 0.9841 - val_loss: 0.0353 - val_accuracy: 0.9901\n",
      "Epoch 3/10\n",
      "199/199 [==============================] - 6s 29ms/step - loss: 0.1152 - accuracy: 0.9730 - val_loss: 0.0304 - val_accuracy: 0.9901\n",
      "Epoch 4/10\n",
      "199/199 [==============================] - 9s 43ms/step - loss: 0.0171 - accuracy: 0.9954 - val_loss: 0.0106 - val_accuracy: 0.9967\n",
      "Epoch 5/10\n",
      "199/199 [==============================] - 8s 41ms/step - loss: 0.0044 - accuracy: 0.9992 - val_loss: 0.0030 - val_accuracy: 0.9989\n",
      "Epoch 6/10\n",
      "199/199 [==============================] - 7s 34ms/step - loss: 0.0018 - accuracy: 0.9994 - val_loss: 0.0060 - val_accuracy: 0.9985\n",
      "Epoch 7/10\n",
      "199/199 [==============================] - 7s 36ms/step - loss: 1.2286e-04 - accuracy: 1.0000 - val_loss: 0.0043 - val_accuracy: 0.9982\n",
      "Epoch 8/10\n",
      "199/199 [==============================] - 7s 34ms/step - loss: 1.0677e-05 - accuracy: 1.0000 - val_loss: 0.0051 - val_accuracy: 0.9982\n",
      "Epoch 9/10\n",
      "199/199 [==============================] - 6s 31ms/step - loss: 4.8536e-06 - accuracy: 1.0000 - val_loss: 0.0052 - val_accuracy: 0.9982\n",
      "Epoch 10/10\n",
      "199/199 [==============================] - 6s 32ms/step - loss: 3.3549e-06 - accuracy: 1.0000 - val_loss: 0.0053 - val_accuracy: 0.9982\n"
     ]
    }
   ],
   "source": [
    "\"\"\"\n",
    "모델에 학습을 시키는 과정으로 train 세트의 30%는 검증세트로 사용하며 epochs은 전체를 학습시키는 횟수이다.\n",
    "\"\"\"\n",
    "history = model.fit(X_train, y_train, validation_split=0.3, epochs = 10)"
   ]
  },
  {
   "cell_type": "code",
   "execution_count": 11,
   "id": "varying-hurricane",
   "metadata": {},
   "outputs": [
    {
     "data": {
      "image/png": "[encoded data removed]",
      "text/plain": [
       "<Figure size 432x288 with 1 Axes>"
      ]
     },
     "metadata": {
      "needs_background": "light"
     },
     "output_type": "display_data"
    }
   ],
   "source": [
    "\"\"\"\n",
    "train set과 valid set의 정확도를 그래프로 표현하는 코드로 그래프를 확인하면서 학습 횟수를 조절하고 모델을 수정하는 작업을 수행한다.\n",
    "\"\"\"\n",
    "plt.plot(history.history['accuracy'])\n",
    "plt.plot(history.history['val_accuracy'])\n",
    "plt.legend(['training', 'validation'], loc = 'upper left')\n",
    "plt.show()"
   ]
  },
  {
   "cell_type": "code",
   "execution_count": 12,
   "id": "adjacent-chest",
   "metadata": {},
   "outputs": [
    {
     "data": {
      "image/png": "[encoded data removed]",
      "text/plain": [
       "<Figure size 432x288 with 1 Axes>"
      ]
     },
     "metadata": {
      "needs_background": "light"
     },
     "output_type": "display_data"
    }
   ],
   "source": [
    "plt.plot(history.history['loss'])\n",
    "plt.plot(history.history['val_loss'])\n",
    "plt.legend(['training', 'validation'], loc = 'upper left')\n",
    "plt.show()"
   ]
  },
  {
   "cell_type": "code",
   "execution_count": 13,
   "id": "australian-payment",
   "metadata": {},
   "outputs": [
    {
     "name": "stdout",
     "output_type": "stream",
     "text": [
      "95/95 - 1s - loss: 0.0160 - accuracy: 0.9974\n"
     ]
    }
   ],
   "source": [
    "val_loss, val_acc = model.evaluate( X_test, y_test, verbose =2)"
   ]
  },
  {
   "cell_type": "code",
   "execution_count": 15,
   "id": "expressed-tribute",
   "metadata": {},
   "outputs": [],
   "source": [
    "model.save('jebal.h5')"
   ]
  },
  {
   "cell_type": "code",
   "execution_count": null,
   "id": "apart-capture",
   "metadata": {},
   "outputs": [],
   "source": []
  }
 ],
 "metadata": {
  "kernelspec": {
   "display_name": "Python 3",
   "language": "python",
   "name": "python3"
  },
  "language_info": {
   "codemirror_mode": {
    "name": "ipython",
    "version": 3
   },
   "file_extension": ".py",
   "mimetype": "text/x-python",
   "name": "python",
   "nbconvert_exporter": "python",
   "pygments_lexer": "ipython3",
   "version": "3.8.8"
  }
 },
 "nbformat": 4,
 "nbformat_minor": 5
}
